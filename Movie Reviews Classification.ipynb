{
 "cells": [
  {
   "cell_type": "markdown",
   "id": "ba8fee7e-c247-453a-a437-5fea654915ac",
   "metadata": {},
   "source": [
    "# MOVIE REVIEWS CLASSIFICATION\n",
    "- Objective: To develop a sentiment analysis model to classify movies as either positive or negative\n",
    "- Data: IMDB movie reviews data"
   ]
  },
  {
   "cell_type": "markdown",
   "id": "eb3830a5-1b40-4ca7-8f62-443ce81bb066",
   "metadata": {},
   "source": [
    "### 1. Import required modules"
   ]
  },
  {
   "cell_type": "code",
   "execution_count": 1,
   "id": "f8ce0911-1515-4d41-b131-778acaa26a6f",
   "metadata": {},
   "outputs": [],
   "source": [
    "import pandas as pd\n",
    "from sklearn.preprocessing import LabelEncoder\n",
    "from sklearn.feature_extraction.text import TfidfVectorizer\n",
    "from sklearn.model_selection import train_test_split\n",
    "from sklearn.linear_model import LogisticRegression\n",
    "from sklearn.naive_bayes import ComplementNB\n",
    "from sklearn.metrics import f1_score, precision_score, recall_score"
   ]
  },
  {
   "cell_type": "markdown",
   "id": "5a0a444f-c794-42de-89eb-19029d597418",
   "metadata": {},
   "source": [
    "### 2. Import raw data and define X, y variables"
   ]
  },
  {
   "cell_type": "code",
   "execution_count": 2,
   "id": "fbf9f589-a0b3-4935-8088-598462cc8e20",
   "metadata": {},
   "outputs": [
    {
     "data": {
      "text/html": [
       "<div>\n",
       "<style scoped>\n",
       "    .dataframe tbody tr th:only-of-type {\n",
       "        vertical-align: middle;\n",
       "    }\n",
       "\n",
       "    .dataframe tbody tr th {\n",
       "        vertical-align: top;\n",
       "    }\n",
       "\n",
       "    .dataframe thead th {\n",
       "        text-align: right;\n",
       "    }\n",
       "</style>\n",
       "<table border=\"1\" class=\"dataframe\">\n",
       "  <thead>\n",
       "    <tr style=\"text-align: right;\">\n",
       "      <th></th>\n",
       "      <th>review</th>\n",
       "      <th>sentiment</th>\n",
       "    </tr>\n",
       "  </thead>\n",
       "  <tbody>\n",
       "    <tr>\n",
       "      <th>0</th>\n",
       "      <td>Bromwell High is a cartoon comedy. It ran at t...</td>\n",
       "      <td>positive</td>\n",
       "    </tr>\n",
       "    <tr>\n",
       "      <th>1</th>\n",
       "      <td>Homelessness (or Houselessness as George Carli...</td>\n",
       "      <td>positive</td>\n",
       "    </tr>\n",
       "    <tr>\n",
       "      <th>2</th>\n",
       "      <td>Brilliant over-acting by Lesley Ann Warren. Be...</td>\n",
       "      <td>positive</td>\n",
       "    </tr>\n",
       "    <tr>\n",
       "      <th>3</th>\n",
       "      <td>This is easily the most underrated film inn th...</td>\n",
       "      <td>positive</td>\n",
       "    </tr>\n",
       "    <tr>\n",
       "      <th>4</th>\n",
       "      <td>This is not the typical Mel Brooks film. It wa...</td>\n",
       "      <td>positive</td>\n",
       "    </tr>\n",
       "  </tbody>\n",
       "</table>\n",
       "</div>"
      ],
      "text/plain": [
       "                                              review sentiment\n",
       "0  Bromwell High is a cartoon comedy. It ran at t...  positive\n",
       "1  Homelessness (or Houselessness as George Carli...  positive\n",
       "2  Brilliant over-acting by Lesley Ann Warren. Be...  positive\n",
       "3  This is easily the most underrated film inn th...  positive\n",
       "4  This is not the typical Mel Brooks film. It wa...  positive"
      ]
     },
     "execution_count": 2,
     "metadata": {},
     "output_type": "execute_result"
    }
   ],
   "source": [
    "raw_data = pd.read_csv('Data/imdb_reviews_combined.csv')\n",
    "raw_data.head()"
   ]
  },
  {
   "cell_type": "code",
   "execution_count": 3,
   "id": "cee78d67-ffbd-42a0-b9ae-3a6ba2457c54",
   "metadata": {},
   "outputs": [
    {
     "data": {
      "text/plain": [
       "array(['positive', 'negative'], dtype=object)"
      ]
     },
     "execution_count": 3,
     "metadata": {},
     "output_type": "execute_result"
    }
   ],
   "source": [
    "raw_data['sentiment'].unique()"
   ]
  },
  {
   "cell_type": "code",
   "execution_count": 4,
   "id": "1f28b2b7-3c76-4414-acbf-223a001ec54c",
   "metadata": {},
   "outputs": [
    {
     "data": {
      "text/plain": [
       "(50000, 2)"
      ]
     },
     "execution_count": 4,
     "metadata": {},
     "output_type": "execute_result"
    }
   ],
   "source": [
    "raw_data.shape"
   ]
  },
  {
   "cell_type": "code",
   "execution_count": 5,
   "id": "c3003afe-d5e2-4854-966a-1d80be896ec9",
   "metadata": {},
   "outputs": [],
   "source": [
    "X = raw_data['review']\n",
    "y = raw_data['sentiment']"
   ]
  },
  {
   "cell_type": "markdown",
   "id": "be151a57-72d7-426c-ae89-48401bbb4349",
   "metadata": {},
   "source": [
    "### 3. Data pre-processing\n",
    "- Encode the target variable\n",
    "- Vectorize the reviews\n",
    "- Split data into train and test sets"
   ]
  },
  {
   "cell_type": "code",
   "execution_count": 6,
   "id": "c4c6068c-9310-47fc-adcc-0c667a170237",
   "metadata": {},
   "outputs": [],
   "source": [
    "y = LabelEncoder().fit_transform(y)\n",
    "X = TfidfVectorizer(strip_accents = 'ascii', stop_words='english').fit_transform(X)\n",
    "X_train, X_test, y_train, y_test = train_test_split(X, y, test_size=0.3, random_state=0)"
   ]
  },
  {
   "cell_type": "markdown",
   "id": "4c447910-6fbd-42ae-87f2-cc8af8a64899",
   "metadata": {},
   "source": [
    "### 4. Model fitting and evaluation"
   ]
  },
  {
   "cell_type": "code",
   "execution_count": 7,
   "id": "891458d1-22e7-4c6e-bd3a-4fc8c5bf2f45",
   "metadata": {},
   "outputs": [
    {
     "name": "stdout",
     "output_type": "stream",
     "text": [
      "Train Score: 93.38%\n",
      "Test Score: 89.29%\n",
      "Precision: 88.34%\n",
      "Recall: 90.57%\n",
      "F1: 89.44%\n"
     ]
    }
   ],
   "source": [
    "lr = LogisticRegression().fit(X_train, y_train)\n",
    "print(f'Train Score: {lr.score(X_train, y_train):.2%}')\n",
    "print(f'Test Score: {lr.score(X_test, y_test):.2%}')\n",
    "print(f'Precision: {precision_score(y_test, lr.predict(X_test)):.2%}')\n",
    "print(f'Recall: {recall_score(y_test, lr.predict(X_test)):.2%}')\n",
    "print(f'F1: {f1_score(y_test, lr.predict(X_test)):.2%}')"
   ]
  },
  {
   "cell_type": "code",
   "execution_count": 8,
   "id": "fc76fce5-521b-421d-9a30-740ef9925053",
   "metadata": {},
   "outputs": [
    {
     "name": "stdout",
     "output_type": "stream",
     "text": [
      "Train Score:91.07%\n",
      "Test Score:86.03%\n",
      "Precision: 87.41%\n",
      "Recall: 84.24%\n",
      "F1: 85.80%\n"
     ]
    }
   ],
   "source": [
    "cnb = ComplementNB().fit(X_train, y_train)\n",
    "print(f'Train Score:{cnb.score(X_train, y_train):.2%}')\n",
    "print(f'Test Score:{cnb.score(X_test, y_test):.2%}')\n",
    "print(f'Precision: {precision_score(y_test, cnb.predict(X_test)):.2%}')\n",
    "print(f'Recall: {recall_score(y_test, cnb.predict(X_test)):.2%}')\n",
    "print(f'F1: {f1_score(y_test, cnb.predict(X_test)):.2%}')"
   ]
  }
 ],
 "metadata": {
  "kernelspec": {
   "display_name": "Python 3 (ipykernel)",
   "language": "python",
   "name": "python3"
  },
  "language_info": {
   "codemirror_mode": {
    "name": "ipython",
    "version": 3
   },
   "file_extension": ".py",
   "mimetype": "text/x-python",
   "name": "python",
   "nbconvert_exporter": "python",
   "pygments_lexer": "ipython3",
   "version": "3.12.4"
  }
 },
 "nbformat": 4,
 "nbformat_minor": 5
}
